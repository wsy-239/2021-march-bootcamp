{
 "cells": [
  {
   "cell_type": "markdown",
   "metadata": {},
   "source": [
    "<h1>Controling execution using the if statement</h1>"
   ]
  },
  {
   "cell_type": "code",
   "execution_count": 1,
   "metadata": {},
   "outputs": [
    {
     "name": "stdout",
     "output_type": "stream",
     "text": [
      "Enter an integer: 13\n",
      "Enter a second integer2\n",
      "13 is not divisible by 2\n"
     ]
    }
   ],
   "source": [
    "x = int(input(\"Enter an integer: \"))\n",
    "y = int(input(\"Enter a second integer\"))\n",
    "if x%y == 0:\n",
    "    print(x,\"is divisible by\",y) #This block will execute if the remainder of x/y is zero\n",
    "else:\n",
    "    print(x,\"is not divisible by\",y)"
   ]
  },
  {
   "cell_type": "code",
   "execution_count": 2,
   "metadata": {},
   "outputs": [
    {
     "name": "stdout",
     "output_type": "stream",
     "text": [
      "Enter an integer: 1000000\n",
      "<class 'str'>\n"
     ]
    }
   ],
   "source": [
    "x = input(\"Enter an integer: \")\n",
    "print(type(x))"
   ]
  },
  {
   "cell_type": "markdown",
   "metadata": {},
   "source": [
    "<h2>Statement blocks</h2>\n",
    "<li>The block identifying statement must end with a : (colon)\n",
    "<li>The statements inside the block must be indented\n",
    "<li>The indentation must be the same for every statement in the block\n",
    "<li>Nested blocks: As nesting increases, so does the indentation\n",
    "<li>Convention: 4 space indentation for each level"
   ]
  },
  {
   "cell_type": "markdown",
   "metadata": {},
   "source": [
    "<h2>if ... elif ... elif ... elif ... else</h2>"
   ]
  },
  {
   "cell_type": "code",
   "execution_count": 7,
   "metadata": {},
   "outputs": [
    {
     "name": "stdout",
     "output_type": "stream",
     "text": [
      "Enter the purchase price of the stock: 3\n",
      "Enter the current price of the stock: 3\n",
      "HOLD: Don't do anything!\n"
     ]
    }
   ],
   "source": [
    "purchase_price = float(input(\"Enter the purchase price of the stock: \"))\n",
    "price_now = float(input(\"Enter the current price of the stock: \"))\n",
    "if price_now < purchase_price * 0.9:\n",
    "        print(\"STOP LOSS: Sell the stock! \")\n",
    "elif price_now > purchase_price * 1.2:\n",
    "    print(\"PROFIT TAKING: Sell the stock!\")\n",
    "else:\n",
    "        print(\"HOLD: Don't do anything!\")"
   ]
  },
  {
   "cell_type": "markdown",
   "metadata": {},
   "source": [
    "# purchase_price = float(input(\"Enter the purchase price of the stock: \"))\n"
   ]
  },
  {
   "cell_type": "code",
   "execution_count": null,
   "metadata": {},
   "outputs": [],
   "source": [
    "price_now = float(input(\"Enter the current price of the stock: \"))\n",
    "if price_now < purchase_price * 0.9:\n",
    "    print(\"STOP LOSS: Sell the stock! \")\n",
    "    print(\"You've lost\",purchase_price-price_now,\"Dollars per share\")\n",
    "elif price_now > purchase_price * 1.2:\n",
    "    print(\"PROFIT TAKING: Sell the stock!\")\n",
    "    print(\"You've gained\",price_now-purchase_price,\"Dollars per share\")\n",
    "\n",
    "else:\n",
    "    print(\"HOLD: Don't do anything!\")\n",
    "    print(\"Your unrealized profit is\",price_now-purchase_price,\"Dollars per share\")\n",
    "print(\"Hope you enjoyed this program!\")"
   ]
  },
  {
   "cell_type": "markdown",
   "metadata": {},
   "source": [
    "<h2>Nested indentation example</h2>"
   ]
  },
  {
   "cell_type": "code",
   "execution_count": null,
   "metadata": {},
   "outputs": [],
   "source": [
    "purchase_price = float(input(\"Purchase price? \"))\n",
    "price_now = float(input(\"Price now? \"))\n",
    "days_held = int(input(\"Number of days position held? \"))\n",
    "if price_now < .9 * purchase_price\n",
    "    if days_held < 10:\n",
    "        if price_now < .8 * purchase_price:\n",
    "            print(\"Stop Loss Activated. Close the position\")\n",
    "        else:\n",
    "            print(\"Do nothing\")\n",
    "    else:\n",
    "        print(\"Stop Loss activated. Close the position\")    \n",
    "elif price_now > 1.1 * purchase_price:\n",
    "    print(\"Profit taking activated. Close the position\")\n",
    "else:\n",
    "    print(\"Do nothing\")"
   ]
  },
  {
   "cell_type": "code",
   "execution_count": null,
   "metadata": {},
   "outputs": [],
   "source": [
    "passed = True\n",
    "if passed:\n",
    "    return 1\n",
    "else:\n",
    "    return 0"
   ]
  },
  {
   "cell_type": "code",
   "execution_count": null,
   "metadata": {},
   "outputs": [],
   "source": [
    "# while \n",
    "# for\n",
    "https://www.liaoxuefeng.com/wiki/1016959663602400/1017100774566304"
   ]
  },
  {
   "cell_type": "code",
   "execution_count": 6,
   "metadata": {},
   "outputs": [],
   "source": [
    "count = 0\n",
    "n = 100\n",
    "# range(start,end,step)\n",
    "# range(0,n,1)\n",
    "for i in range(n):\n",
    "    count += 1\n",
    "# print(count)"
   ]
  },
  {
   "cell_type": "code",
   "execution_count": 9,
   "metadata": {},
   "outputs": [
    {
     "name": "stdout",
     "output_type": "stream",
     "text": [
      "[0, 1, 2, 3, 4, 5, 6, 7, 8, 9]\n"
     ]
    }
   ],
   "source": [
    "nums = list(range(10))\n",
    "print(nums)"
   ]
  },
  {
   "cell_type": "code",
   "execution_count": 10,
   "metadata": {},
   "outputs": [
    {
     "name": "stdout",
     "output_type": "stream",
     "text": [
      "0\n",
      "1\n",
      "2\n",
      "3\n",
      "4\n",
      "5\n",
      "6\n",
      "7\n",
      "8\n",
      "9\n"
     ]
    }
   ],
   "source": [
    "for num in nums:\n",
    "    print(num)\n",
    "    # forEach"
   ]
  },
  {
   "cell_type": "code",
   "execution_count": 13,
   "metadata": {},
   "outputs": [
    {
     "name": "stdout",
     "output_type": "stream",
     "text": [
      "500\n",
      "1000\n",
      "2000\n"
     ]
    }
   ],
   "source": [
    "nums = [500, 1000, 2000, 5000, -6]\n",
    "i = 0\n",
    "while nums[i] <= 2000:\n",
    "    print(nums[i])\n",
    "    i += 1"
   ]
  },
  {
   "cell_type": "code",
   "execution_count": 16,
   "metadata": {},
   "outputs": [
    {
     "name": "stdout",
     "output_type": "stream",
     "text": [
      "500\n",
      "1000\n",
      "2000\n",
      "in the if\n"
     ]
    }
   ],
   "source": [
    "for num in nums:\n",
    "    if num > 2000:\n",
    "        print(\"in the if\")\n",
    "        break\n",
    "    print(num)"
   ]
  },
  {
   "cell_type": "code",
   "execution_count": null,
   "metadata": {},
   "outputs": [],
   "source": []
  }
 ],
 "metadata": {
  "kernelspec": {
   "display_name": "Python 3",
   "language": "python",
   "name": "python3"
  },
  "language_info": {
   "codemirror_mode": {
    "name": "ipython",
    "version": 3
   },
   "file_extension": ".py",
   "mimetype": "text/x-python",
   "name": "python",
   "nbconvert_exporter": "python",
   "pygments_lexer": "ipython3",
   "version": "3.8.5"
  }
 },
 "nbformat": 4,
 "nbformat_minor": 2
}
