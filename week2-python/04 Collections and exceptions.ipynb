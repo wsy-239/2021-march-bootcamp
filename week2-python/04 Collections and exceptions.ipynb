{
 "cells": [
  {
   "cell_type": "markdown",
   "metadata": {},
   "source": [
    "<h1>Lists</h1>\n",
    "<li>Sequential, Ordered Collections\n"
   ]
  },
  {
   "cell_type": "code",
   "execution_count": 1,
   "metadata": {},
   "outputs": [],
   "source": [
    "Programming = data structure + algorithm \n",
    "\n",
    "CRUDS - created/add, read, update, delete, search 增删查改"
   ]
  },
  {
   "cell_type": "markdown",
   "metadata": {},
   "source": [
    "<h2>Creating lists</h2>"
   ]
  },
  {
   "cell_type": "code",
   "execution_count": 1,
   "metadata": {},
   "outputs": [
    {
     "name": "stdout",
     "output_type": "stream",
     "text": [
      "[4, 2, 6, 3]\n",
      "[]\n"
     ]
    }
   ],
   "source": [
    "# queue, array\n",
    "x = [4,2,6,3] #Create a list with values\n",
    "y = list() # Create an empty list\n",
    "y = [] #Create an empty list\n",
    "print(x)\n",
    "print(y)"
   ]
  },
  {
   "cell_type": "code",
   "execution_count": null,
   "metadata": {},
   "outputs": [],
   "source": [
    "aTuple = (123, 'xyz', 'zara', 'abc');\n",
    "aList = list(aTuple)\n",
    "print(aList)"
   ]
  },
  {
   "cell_type": "markdown",
   "metadata": {},
   "source": [
    "<h3>Adding items to a list</h3>\n"
   ]
  },
  {
   "cell_type": "code",
   "execution_count": 1,
   "metadata": {},
   "outputs": [
    {
     "name": "stdout",
     "output_type": "stream",
     "text": [
      "[]\n",
      "['One']\n",
      "['One', 'Two']\n"
     ]
    }
   ],
   "source": [
    "x=list()\n",
    "print(x)\n",
    "x.append('One') #Adds 'One' to the back of the empty list\n",
    "print(x)\n",
    "x.append('Two') #Adds 'Two' to the back of the list ['One']\n",
    "print(x)"
   ]
  },
  {
   "cell_type": "code",
   "execution_count": 2,
   "metadata": {},
   "outputs": [
    {
     "name": "stdout",
     "output_type": "stream",
     "text": [
      "['Half', 'One', 'Two']\n"
     ]
    }
   ],
   "source": [
    "x.insert(0,'Half') #Inserts 'Half' at location 0. Items will shift to make roomw\n",
    "print(x)"
   ]
  },
  {
   "cell_type": "code",
   "execution_count": 3,
   "metadata": {},
   "outputs": [
    {
     "name": "stdout",
     "output_type": "stream",
     "text": [
      "[1]\n",
      "[1, 1, 2, 3]\n"
     ]
    }
   ],
   "source": [
    "x=list()\n",
    "x.append(1)\n",
    "print(x)\n",
    "x.extend([1,2,3]) #Unpacks the list and adds each item to the back of the list\n",
    "print(x)"
   ]
  },
  {
   "cell_type": "markdown",
   "metadata": {},
   "source": [
    "<h3>Indexing and slicing</h3>"
   ]
  },
  {
   "cell_type": "code",
   "execution_count": 3,
   "metadata": {},
   "outputs": [
    {
     "name": "stdout",
     "output_type": "stream",
     "text": [
      "8\n",
      "5\n",
      "[2, 5, 3]\n",
      "32\n",
      "[32, 67, 5, 3, 5, 2, 7, 1]\n",
      "234\n"
     ]
    }
   ],
   "source": [
    "x=[1,7,2,5,3,5,67,32]\n",
    "print(len(x))\n",
    "print(x[3]) #4th item, python is zero-based language\n",
    "print(x[2:5]) \n",
    "print(x[-1])\n",
    "print(x[::-1]) # same list, backwards\n",
    "s = \"12345\" # list for characters (str)\n",
    "s1 = [\"1\", \"2\", \"3\"]\n",
    "s2 = s[1] + s[2] + s[3]\n",
    "s2 = s[1:4]\n",
    "\n",
    "print(s2)"
   ]
  },
  {
   "cell_type": "code",
   "execution_count": 9,
   "metadata": {},
   "outputs": [
    {
     "name": "stdout",
     "output_type": "stream",
     "text": [
      "[1, 1, 2, 3]\n",
      "[3, 2, 1, 1]\n",
      "[1, 1, 2, 3]\n",
      "[3, 2, 1, 1]\n"
     ]
    }
   ],
   "source": [
    "print(x)\n",
    "x.reverse() # Return is None, Update it to be in reverse order\n",
    "print(x)\n",
    "print(x[::-1]) # Return a new list, Read in reverse order\n",
    "print(x)"
   ]
  },
  {
   "cell_type": "markdown",
   "metadata": {},
   "source": [
    "<h3>Removing items from a list</h3>"
   ]
  },
  {
   "cell_type": "code",
   "execution_count": null,
   "metadata": {},
   "outputs": [],
   "source": [
    "x=[1,7,2,5,3,5,67,32]\n",
    "x.pop() #Removes the last element from a list\n",
    "print(x)\n",
    "x.pop(3) #Removes element at item 3 from a list\n",
    "print(x)\n",
    "x.remove(7) #Removes the first 7 from the list; remove() method removes the first matching element (which is passed as an argument) from the list.\n",
    "print(x)"
   ]
  },
  {
   "cell_type": "markdown",
   "metadata": {},
   "source": [
    "<h3>Anything you want to remove must be in the list or the location must be inside the list</h3>"
   ]
  },
  {
   "cell_type": "code",
   "execution_count": null,
   "metadata": {},
   "outputs": [],
   "source": [
    "x.remove(20)"
   ]
  },
  {
   "cell_type": "markdown",
   "metadata": {},
   "source": [
    "<h2>Mutablility of lists</h2>\n",
    "<li>Lists are <span style=\"color:red\">mutable</span>\n",
    "<li>They can be changed while at the same location in memory"
   ]
  },
  {
   "cell_type": "code",
   "execution_count": null,
   "metadata": {},
   "outputs": [],
   "source": [
    "x=list()\n",
    "print(x,id(x))\n",
    "x.extend([1,2,3])\n",
    "print(x,id(x))\n",
    "x += [4,5,6]\n",
    "print(x,id(x))\n",
    "x = x + [4,5,6]\n",
    "print(x,id(x))"
   ]
  },
  {
   "cell_type": "code",
   "execution_count": 4,
   "metadata": {},
   "outputs": [
    {
     "name": "stdout",
     "output_type": "stream",
     "text": [
      "Hello 140632960596720\n",
      "Hello You! 140632960654704\n",
      "['Hello'] 140632960413440\n",
      "['Hello', 'You!'] 140632960413440\n"
     ]
    }
   ],
   "source": [
    "x=\"Hello\"\n",
    "print(x,id(x))\n",
    "x+=\" You!\"\n",
    "print(x,id(x)) #x is not the same object it was\n",
    "y=[\"Hello\"]\n",
    "print(y,id(y))\n",
    "y+=[\"You!\"] \n",
    "print(y,id(y)) #y is still the same object. Lists are mutable. Strings are immutable\n"
   ]
  },
  {
   "cell_type": "markdown",
   "metadata": {},
   "source": [
    "<h4>Objects inside a list have independent existence</h4>"
   ]
  },
  {
   "cell_type": "code",
   "execution_count": 5,
   "metadata": {},
   "outputs": [
    {
     "name": "stdout",
     "output_type": "stream",
     "text": [
      "[1, ['a', 'b'], 3] 140632960255552 140632960283504\n",
      "['a', 'b']\n",
      "['a', 4] 140632960283504\n"
     ]
    }
   ],
   "source": [
    "y=['a','b']\n",
    "x = [1,y,3]\n",
    "print(x, id(x), id(y))\n",
    "print(y)\n",
    "y[1] = 4\n",
    "print(y,id(y))"
   ]
  },
  {
   "cell_type": "code",
   "execution_count": null,
   "metadata": {},
   "outputs": [],
   "source": [
    "print(x)"
   ]
  },
  {
   "cell_type": "code",
   "execution_count": 6,
   "metadata": {},
   "outputs": [
    {
     "name": "stdout",
     "output_type": "stream",
     "text": [
      "[1, ['a', 4], 3] 140632960411920\n"
     ]
    }
   ],
   "source": [
    "y = [1,2]\n",
    "print(x, id(y))\n",
    "# what do you expect?"
   ]
  },
  {
   "cell_type": "markdown",
   "metadata": {},
   "source": [
    "<h3>Mutability has consequences in function calls</h3>"
   ]
  },
  {
   "cell_type": "code",
   "execution_count": 12,
   "metadata": {},
   "outputs": [
    {
     "name": "stdout",
     "output_type": "stream",
     "text": [
      "[2, 3, 4]\n",
      "[3, 4, 5]\n",
      "[2, 3, 4]\n"
     ]
    }
   ],
   "source": [
    "# in-place\n",
    "def test(param: [int]) -> None:\n",
    "    for i in range(len(param)):\n",
    "        param[i] = param[i] + 1\n",
    "    return\n",
    "\n",
    "# Prefer - do not edit input param \n",
    "def test2(param: [int]) -> [int]:\n",
    "    res = []\n",
    "    for i in range(len(param)):\n",
    "        res.append(param[i] + 1)\n",
    "    return res\n",
    "\n",
    "p1 = [1, 2, 3]\n",
    "test(p1)\n",
    "print(p1)\n",
    "print(test2(p1))\n",
    "print(p1)\n",
    "# print(test2([1,2,3]))"
   ]
  },
  {
   "cell_type": "code",
   "execution_count": 16,
   "metadata": {},
   "outputs": [
    {
     "name": "stdout",
     "output_type": "stream",
     "text": [
      "2\n"
     ]
    }
   ],
   "source": [
    "'''\n",
    "example = [1,2,5,7,10,13]  -> 9? => -1, 5? => 2\n",
    "expected case -> > < == -1\n",
    "time / space\n",
    "O(logn) -- 1024 -> 512 -> 256 -> 128 -> 64 -> 32 -> 16 -> 8 -> 4 -> 2 -> 1\n",
    "start / end / mid  O(C)\n",
    "mid < target until mid == target  start + 1 == end\n",
    "start 1[0]  5[2]  7[3]  7[3]  7[3]\n",
    "  end 13[5] 13[5] 13[5] 10[4] 10[4]\n",
    "  mid 5[2]  7[3]  10[4] 7[3]  7[3]\n",
    "  \n",
    "EDIT\n",
    "mid < target until mid == target  start == end -> -1\n",
    "start 1[0]  7[3]  7[3]\n",
    "  end 13[5] 13[5] 7[3]\n",
    "  mid 5[2]  10[4] 7[3] \n",
    "  \n",
    "mid > target  \n",
    "start 1[0]  1[0]\n",
    "  end 13[5] 5[2] \n",
    "  mid 5[2]  2[1]\n",
    "\n",
    "'''\n",
    "\n",
    "# example.index(9)\n",
    "\n",
    "# N - total number\n",
    "# N -> lgN\n",
    "\n",
    "# input list of arr, target\n",
    "# output is index or -1\n",
    "# binary search \n",
    "def b_search(arr: [int], target: int) -> int:\n",
    "    start = 0 #0\n",
    "    end = len(arr) - 1 #5\n",
    "    while start <= end:\n",
    "        mid = (start + end) // 2 #overflow\n",
    "        if arr[mid] == target:\n",
    "            return mid\n",
    "        \n",
    "        if arr[mid] > target:\n",
    "            end = mid - 1\n",
    "        else:\n",
    "            start = mid + 1\n",
    "    return -1 # 搜索空间为 ∅\n",
    "\n",
    "print(b_search([1,2,5,6], 5))"
   ]
  },
  {
   "cell_type": "markdown",
   "metadata": {},
   "source": [
    "not sorted [1,5,2,3,6] -> T O(n), \n",
    "repeated and not sorted [1,5,5,5,2,2] -> T O(n), \n",
    "\n",
    "repeated and sorted? [1,2,2,3,4,5,7,9,9] can we use Bsearch?\n",
    "\n",
    "Time VS Space (trade off)\n",
    "O(n) ~= n 量级\n",
    "O(C) ~= 1\n",
    "\n",
    "O(C), O(logn), O(n), O(nlogn) sorting algorithm, "
   ]
  },
  {
   "cell_type": "markdown",
   "metadata": {},
   "source": [
    "<h1>Tuples</h1>\n",
    "<li>Tuples are sequential ordered collections\n",
    "<li>Unlike lists, they are immutable\n",
    "    \n",
    "    immutable vs mutable\n",
    "    "
   ]
  },
  {
   "cell_type": "code",
   "execution_count": null,
   "metadata": {},
   "outputs": [],
   "source": [
    "t = ()\n",
    "print(t)"
   ]
  },
  {
   "cell_type": "code",
   "execution_count": null,
   "metadata": {},
   "outputs": [],
   "source": [
    "x = ('a','b','c')\n",
    "x.append('d')"
   ]
  },
  {
   "cell_type": "markdown",
   "metadata": {},
   "source": [
    "<h3>Question: Is x mutable or immutable?</h3>"
   ]
  },
  {
   "cell_type": "code",
   "execution_count": 16,
   "metadata": {},
   "outputs": [
    {
     "data": {
      "text/plain": [
       "2"
      ]
     },
     "execution_count": 16,
     "metadata": {},
     "output_type": "execute_result"
    }
   ],
   "source": [
    "x = ((1,2), ['a','b'],3)\n",
    "x[0][1]"
   ]
  },
  {
   "cell_type": "code",
   "execution_count": null,
   "metadata": {},
   "outputs": [],
   "source": [
    "#Will this work?\n",
    "x[0]=1"
   ]
  },
  {
   "cell_type": "code",
   "execution_count": null,
   "metadata": {},
   "outputs": [],
   "source": [
    "#What about this?\n",
    "x[0][0]=1"
   ]
  },
  {
   "cell_type": "code",
   "execution_count": null,
   "metadata": {},
   "outputs": [],
   "source": [
    "#And this?\n",
    "x[1][0]=1\n",
    "print(x[1][0])"
   ]
  },
  {
   "cell_type": "markdown",
   "metadata": {},
   "source": [
    "<h1>Iteration</h1>"
   ]
  },
  {
   "cell_type": "markdown",
   "metadata": {},
   "source": [
    "<h2>Iterators</h2>\n",
    "<li>Iterators are <span style=\"color:red\">generators</span> that generate iterable elements on the fly\n",
    "<li><span style=\"color:blue\">range</span> is a python iterator that generates indexes on an iterable collection\n",
    "    \n",
    "Reference : Goodrich - data structures & algorithms in Python\n",
    "    \n",
    "DRY\n",
    "CRUD -> Create/Add, Read, Update, Delete"
   ]
  },
  {
   "cell_type": "code",
   "execution_count": null,
   "metadata": {},
   "outputs": [],
   "source": [
    "# 1 2 3 4 5 6\n",
    "# current, hasNext, next\n",
    "# value() -> int, hasNext() -> bool, next() -> next iterator"
   ]
  },
  {
   "cell_type": "code",
   "execution_count": null,
   "metadata": {},
   "outputs": [],
   "source": [
    "range(10)\n",
    "arr = [[1, 2], 3, 4]\n",
    "str1 = \"abc\""
   ]
  },
  {
   "cell_type": "code",
   "execution_count": null,
   "metadata": {},
   "outputs": [],
   "source": [
    "for n in str1:\n",
    "  print(type(n))\n",
    "\n",
    "# str1 = 1 2 3 4\n",
    "# iterator -> hasNext(), next()\n",
    "\n",
    "# 2^32\n",
    "# [head -> 1] -> 2 -> 3 -> 4 -> None\n",
    "for n in str1: # hasNext? \n",
    "    print(n)  #4\n",
    "\n",
    "for idx in range(0, len(str1)):\n",
    "    print(str1[idx])\n"
   ]
  },
  {
   "cell_type": "code",
   "execution_count": null,
   "metadata": {},
   "outputs": [],
   "source": [
    "range(0,10,2) #range(start, stop, step)"
   ]
  },
  {
   "cell_type": "code",
   "execution_count": null,
   "metadata": {},
   "outputs": [],
   "source": [
    "x = range(1,10,2)\n",
    "for n in x:\n",
    "    print(n)\n",
    "    "
   ]
  },
  {
   "cell_type": "markdown",
   "metadata": {},
   "source": [
    "<h2>Range iteration</h2>"
   ]
  },
  {
   "cell_type": "code",
   "execution_count": null,
   "metadata": {},
   "outputs": [],
   "source": [
    "#The for loop creates a new variable (e.g., index below)\n",
    "#range(len(x)) generates values from 0 to len(x) \n",
    "x=[1,7,2,5,3,5,67,32]\n",
    "\n",
    "for index in range(len(x)): #循环\n",
    "    print(x[index])"
   ]
  },
  {
   "cell_type": "code",
   "execution_count": null,
   "metadata": {
    "scrolled": true
   },
   "outputs": [],
   "source": [
    "n = 1\n",
    "while n <= 100:\n",
    "    if n > 10: # 当n = 11时，条件满足，执行break语句\n",
    "        break # break语句会结束当前循环\n",
    "    print(n)\n",
    "    n = n + 1\n",
    "print('END')"
   ]
  },
  {
   "cell_type": "code",
   "execution_count": null,
   "metadata": {},
   "outputs": [],
   "source": [
    "n = 0\n",
    "while n < 10:\n",
    "    n = n + 1\n",
    "    if n % 2 == 0: # 如果n是偶数，执行continue语句\n",
    "        continue # continue语句会直接继续下一轮循环，后续的print()语句不会执行\n",
    "    print(n)"
   ]
  },
  {
   "cell_type": "code",
   "execution_count": null,
   "metadata": {},
   "outputs": [],
   "source": [
    "# list(range(len(x)))\n",
    "list(range(1,10,3))\n"
   ]
  },
  {
   "cell_type": "markdown",
   "metadata": {},
   "source": [
    "<h3>List element iteration</h3>"
   ]
  },
  {
   "cell_type": "code",
   "execution_count": null,
   "metadata": {},
   "outputs": [],
   "source": [
    "x=[1,7,2,5,3,5,67,32]\n",
    "for element in x: #The for draws elements - sequentially - from the list x and uses the variable \"element\" to store values\n",
    "    print(element)"
   ]
  },
  {
   "cell_type": "markdown",
   "metadata": {},
   "source": [
    "<h3>Controlling iteration</h3>"
   ]
  },
  {
   "cell_type": "code",
   "execution_count": null,
   "metadata": {},
   "outputs": [],
   "source": [
    "prices = [('AAPL',96.43),('IONS',39.28),('GS',159.53)]\n",
    "ticker = input('Please enter a ticker: ')\n",
    "for item in prices:\n",
    "    if item[0] == ticker:\n",
    "        print(ticker,item[1])\n",
    "        break #get out of loop\n",
    "else:\n",
    "    print(\"Sorry\",ticker,\"was not found in my database\")\n",
    "print(\"Statement after for\")"
   ]
  },
  {
   "cell_type": "markdown",
   "metadata": {},
   "source": [
    "## Sorting\n"
   ]
  },
  {
   "cell_type": "code",
   "execution_count": null,
   "metadata": {},
   "outputs": [],
   "source": [
    "# data structure and algorithm\n",
    "# data mining & machine learning\n",
    "# time - space (trade off)\n",
    "\n",
    "Time Complexity: C - lgN - N - NlogN - N^2 - ... - N^N\n",
    "    FuncName (input) -> (output)\n",
    "    [1,2,3,4] -> [4,3,2,1]\n",
    "\n",
    "Space Complexity: (Extra Complexity) \n",
    "    \n",
    "orignal = [3, 7, 6, 9, 8]\n",
    "[3,6,7,8,9]\n",
    "sorted_list = [3,6,7,8,9]\n",
    "# selection -> compare and swap \n",
    "# selection, quick, merge sort"
   ]
  },
  {
   "cell_type": "markdown",
   "metadata": {},
   "source": [
    "# Set\n",
    "What is Hashcode, 支持唯一性和集合操作\n",
    "https://realpython.com/python-sets/"
   ]
  },
  {
   "cell_type": "code",
   "execution_count": 20,
   "metadata": {},
   "outputs": [
    {
     "name": "stdout",
     "output_type": "stream",
     "text": [
      "{'foo', 'bar', 'qux', 'baz'}\n"
     ]
    }
   ],
   "source": [
    "x = set(['foo', 'bar', 'baz', 'foo', 'qux'])\n",
    "print(x)"
   ]
  },
  {
   "cell_type": "code",
   "execution_count": 29,
   "metadata": {},
   "outputs": [
    {
     "name": "stdout",
     "output_type": "stream",
     "text": [
      "False\n",
      "1\n",
      "-8367457677277746776\n",
      "1679298670287514091\n",
      "True\n"
     ]
    }
   ],
   "source": [
    "print(hash(\"foo\") == hash(\"bar\"))\n",
    "print(hash(1))\n",
    "print(hash(\"abcd\"))\n",
    "example_list = [1,2,3,4]\n",
    "example_set = x\n",
    "# print(hash(tuple(example_list)))\n",
    "print(hash(tuple(example_set)))\n",
    "print(int(\"1234\") == 1234)\n",
    "# print(hash(tuple(x)))\n",
    "# print(hash(frozenset(x)))\n",
    "# print(hash(frozenset({1, 2, 3})))"
   ]
  },
  {
   "cell_type": "markdown",
   "metadata": {},
   "source": [
    "<h1>Dictionaries</h1>\n",
    "Python内置了字典：dict的支持，dict全称dictionary，在其他语言中也称为map，使用键-值（key-value）存储，具有极快的查找速度。\n",
    "哈希表，hashTable, hashMap, key-value pair 键值对表"
   ]
  },
  {
   "cell_type": "code",
   "execution_count": 33,
   "metadata": {},
   "outputs": [
    {
     "ename": "SyntaxError",
     "evalue": "invalid syntax (<ipython-input-33-a8d68764dbb0>, line 16)",
     "output_type": "error",
     "traceback": [
      "\u001b[0;36m  File \u001b[0;32m\"<ipython-input-33-a8d68764dbb0>\"\u001b[0;36m, line \u001b[0;32m16\u001b[0m\n\u001b[0;31m    bucket = list(k-v pair)\u001b[0m\n\u001b[0m                         ^\u001b[0m\n\u001b[0;31mSyntaxError\u001b[0m\u001b[0;31m:\u001b[0m invalid syntax\n"
     ]
    }
   ],
   "source": [
    "# CRUD, index - hash function \n",
    "# hash(str) -> int\n",
    "# A A P L -> \n",
    "# B\n",
    "# key str, value int\n",
    "\n",
    "\"\"\"\n",
    "search by key - 时间复杂度是常数级别\n",
    "array - search: 线性 / bsearch (已排序 lgN)\n",
    "\n",
    "20学生 - 20个成绩\n",
    "快速查找学生成绩 学生 (名字，学号)\n",
    "\n",
    "dict1 - 学号 : (名字，成绩)\n",
    "\n",
    "hashset - (\"abc\" , \"ef\")\n",
    "dictionary - {\"abc\":True, \"ef\":True}\n",
    "\"\"\"\n",
    "\n",
    "\n",
    "# key - 'AAPL', bucket_list: [....{'GS', 200.3}.{'AAPL', 352.5}] 10\n",
    "# get index of bucket_list\n",
    "def hash(key: str, bucket: int) -> int:\n",
    "    sum = 0\n",
    "    for c in input:\n",
    "        sum += ascii(c) # AAPL 65 + 65 + 80 + 76 = 286\n",
    "    return res % bucket\n",
    "\n",
    "# Add: AAPL ->  538.7\n",
    "# -> 286 % 10 -> 6\n",
    "hash('GS', 10) #-> 154 % 10 -> 4\n",
    "bucket_list: [....{'GS', 200.3}.{'AAPL', 352.5}] 10\n",
    "\n",
    "\n",
    "# Read / Search O(1)\n",
    "(1) hash('AAPL') -> 286 % 10 -> 6\n",
    "(2) return dic.bucket[6]\n",
    "{'AAPL', 352.5}\n",
    "\n"
   ]
  },
  {
   "cell_type": "code",
   "execution_count": 31,
   "metadata": {},
   "outputs": [
    {
     "data": {
      "text/plain": [
       "538.7"
      ]
     },
     "execution_count": 31,
     "metadata": {},
     "output_type": "execute_result"
    }
   ],
   "source": [
    "mktcaps = {\n",
    "    'AAPL':538.7,\n",
    "    'GOOG':68.7,\n",
    "    'IONS':4.6\n",
    "}\n",
    "mktcaps['AAPL'] #Returns the value associated with the key \"AAPL\""
   ]
  },
  {
   "cell_type": "code",
   "execution_count": 32,
   "metadata": {},
   "outputs": [
    {
     "name": "stdout",
     "output_type": "stream",
     "text": [
      "True\n"
     ]
    }
   ],
   "source": [
    "#mktcaps['GS'] #Error because GS is not in mktcaps\n",
    "if 'AAPL' in mktcaps:\n",
    "    print(True)"
   ]
  },
  {
   "cell_type": "code",
   "execution_count": null,
   "metadata": {},
   "outputs": [],
   "source": [
    "mktcaps['GS'] = 88.65 #Adds/Updates GS to the dictionary\n",
    "print(mktcaps) "
   ]
  },
  {
   "cell_type": "code",
   "execution_count": null,
   "metadata": {},
   "outputs": [],
   "source": [
    "del(mktcaps['GOOG']) #Removes GOOG from mktcaps\n",
    "print(mktcaps)"
   ]
  },
  {
   "cell_type": "code",
   "execution_count": null,
   "metadata": {},
   "outputs": [],
   "source": [
    "mktcaps.keys() #Returns all the keys"
   ]
  },
  {
   "cell_type": "code",
   "execution_count": null,
   "metadata": {},
   "outputs": [],
   "source": [
    "mktcaps.values() #Returns all the values"
   ]
  },
  {
   "cell_type": "markdown",
   "metadata": {},
   "source": [
    "<h1>Exception handling</h1>"
   ]
  },
  {
   "cell_type": "markdown",
   "metadata": {},
   "source": [
    "<li>Python is a loosely typed language (strong/weak type)\n",
    "<li>The scope for run time errors is huge\n",
    "<li>Python programmers use exception handlers liberally to deal with run time errors\n"
   ]
  },
  {
   "cell_type": "markdown",
   "metadata": {},
   "source": [
    "<h2>Simple example</h2>"
   ]
  },
  {
   "cell_type": "code",
   "execution_count": null,
   "metadata": {},
   "outputs": [],
   "source": [
    "x = int(input(\"A number: \"))\n",
    "y = int(input(\"A number: \"))\n",
    "print(x + y)"
   ]
  },
  {
   "cell_type": "markdown",
   "metadata": {},
   "source": [
    "<h3>What happens if an input is not a number"
   ]
  },
  {
   "cell_type": "code",
   "execution_count": null,
   "metadata": {},
   "outputs": [],
   "source": [
    "x = int(input(\"A number: \"))\n",
    "y = int(input(\"A number: \"))\n",
    "print(x + y)"
   ]
  },
  {
   "cell_type": "markdown",
   "metadata": {},
   "source": [
    "<h3>This is not desirable because the program crashes without giving the user a chance to fix the input</h3>\n",
    "<h3>The solution is to catch the exception and give the user a second chance"
   ]
  },
  {
   "cell_type": "code",
   "execution_count": null,
   "metadata": {},
   "outputs": [],
   "source": [
    "#1 silent error \n",
    "#2 re-throw \n",
    "\n",
    "while True:\n",
    "    try:\n",
    "        x = int(input(\"A number: \"))\n",
    "        y = int(input(\"A number: \"))\n",
    "        print(x+y)\n",
    "        break\n",
    "    except ValueError:\n",
    "        print(\"Both inputs need to be integers! Please try again.\")\n"
   ]
  },
  {
   "cell_type": "code",
   "execution_count": null,
   "metadata": {},
   "outputs": [],
   "source": [
    "#https://www.tutorialsteacher.com/python/error-types-in-python"
   ]
  },
  {
   "cell_type": "code",
   "execution_count": null,
   "metadata": {},
   "outputs": [],
   "source": [
    "# https://www.w3schools.com/python/python_quiz.asp"
   ]
  }
 ],
 "metadata": {
  "kernelspec": {
   "display_name": "Python 3",
   "language": "python",
   "name": "python3"
  },
  "language_info": {
   "codemirror_mode": {
    "name": "ipython",
    "version": 3
   },
   "file_extension": ".py",
   "mimetype": "text/x-python",
   "name": "python",
   "nbconvert_exporter": "python",
   "pygments_lexer": "ipython3",
   "version": "3.8.5"
  }
 },
 "nbformat": 4,
 "nbformat_minor": 2
}
