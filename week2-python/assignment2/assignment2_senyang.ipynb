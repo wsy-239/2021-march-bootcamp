{
 "cells": [
  {
   "cell_type": "markdown",
   "metadata": {},
   "source": [
    "# 注意\n",
    "\n",
    "# Copy this file and rename Assignment2-{first_name}.ipynb \n",
    "\n",
    "### 解题步骤\n",
    "\n",
    "* understand question and test case\n",
    "* check input\n",
    "* algorithm\n",
    "* check return\n"
   ]
  },
  {
   "cell_type": "code",
   "execution_count": 2,
   "metadata": {},
   "outputs": [],
   "source": [
    "# Instruction: make sure your code pass the assertion statements\n",
    "\n",
    "# Q1. Given a positive integer N. The task is to write a Python program to check if the number is prime or not.\n",
    "def is_prime(n:int)->bool:\n",
    "    if n<=1:\n",
    "        return False\n",
    "    i=2\n",
    "    while i**2<=n:\n",
    "        if n%i==0:\n",
    "            return False\n",
    "        i+=1    \n",
    "    return True\n",
    "\n",
    "# DO NOT ALTER BELOW.\n",
    "assert is_prime(2)\n",
    "assert not is_prime(15)\n",
    "assert is_prime(7907)\n",
    "assert not is_prime(-1)\n",
    "assert not is_prime(0)"
   ]
  },
  {
   "cell_type": "code",
   "execution_count": 4,
   "metadata": {},
   "outputs": [],
   "source": [
    "# Q2 Write a function rotate(ar[], d) that rotates arr[] of size n by d elements.\n",
    "# Input ar = [1,2,3,4,5,6,7], d = 2\n",
    "# Output [3,4,5,6,7,1,2]\n",
    "\n",
    "def rotate(ar: [int], d: int) -> [int]:\n",
    "    # [21 76543]\n",
    "    # [3456712]\n",
    "    n = d % len(ar)\n",
    "    inplace_reverse(ar, 0, n - 1)\n",
    "    inplace_reverse(ar, n, len(ar) - 1)\n",
    "    inplace_reverse(ar, 0, len(ar) - 1)\n",
    "    return ar\n",
    "\n",
    "\n",
    "def inplace_reverse(ar: [int], start: int, end: int):\n",
    "    while start < end:\n",
    "        ar[start], ar[end] = ar[end], ar[start]\n",
    "        start += 1\n",
    "        end -= 1\n",
    "\n",
    "\n",
    "# DO NOT ALTER BELOW.\n",
    "assert rotate([1, 2, 3, 4, 5, 6, 7], 2) == [3, 4, 5, 6, 7, 1, 2]\n",
    "assert rotate([1, 2, 3], 4) == [2, 3, 1]"
   ]
  },
  {
   "cell_type": "code",
   "execution_count": 10,
   "metadata": {},
   "outputs": [],
   "source": [
    "# Selection sort - implement a workable selection sort algorithm\n",
    "# https://www.runoob.com/w3cnote/selection-sort.html 作为参考\n",
    "# Input students would be a list of [student #, score], sort by score ascending order.\n",
    "def selection_sort(arr:list)->list:\n",
    "    for i in range(len(arr)-1):\n",
    "        min_index=i\n",
    "        for j in range(i+1,len(arr)):\n",
    "            if arr[j][1]<=arr[min_index][1]:\n",
    "                min_index=j\n",
    "        if i != min_index:\n",
    "            arr[i], arr[min_index] = arr[min_index], arr[i]     \n",
    "    return arr\n",
    "\n",
    "# DO NOT ALTER BELOW.\n",
    "assert selection_sort([]) == []\n",
    "assert selection_sort([[1, 100], [2, 70], [3, 95], [4, 66], [5, 98]]) == [[4, 66], [2, 70], [3, 95], [5, 98], [1, 100]]"
   ]
  },
  {
   "cell_type": "code",
   "execution_count": 1,
   "metadata": {},
   "outputs": [],
   "source": [
    "# Q4. Convert a list of Tuples into Dictionary\n",
    "\n",
    "# tips: copy operation - copy by value, copy by reference\n",
    "# 123, String, immutable (copy by value)\n",
    "# mutable, list, dict... (copy by reference)\n",
    "def convert(tup, di)->None: \n",
    "    for i in range(int(len(tup)/2)):\n",
    "        di[tup[2*i]]=tup[2*i+1]\n",
    "\n",
    "    # Do NOT RETURN di, EDIT IN-PLACE\n",
    "      \n",
    "# DO NOT ALTER BELOW.\n",
    "expected_dict = {}\n",
    "convert((), expected_dict)\n",
    "assert expected_dict == {}\n",
    "\n",
    "convert(('key1', 'val1', 'key2', 'val2'), expected_dict)\n",
    "assert expected_dict == {'key1': 'val1', 'key2': 'val2'} \n"
   ]
  },
  {
   "cell_type": "code",
   "execution_count": 11,
   "metadata": {},
   "outputs": [],
   "source": [
    "# Q5. 研究为什么 Python dict 可以做到常数级别的查找效率，将答案写在 Assignment2-{firstname}.ipynb\n",
    "#哈希算法将任意长度的二进制值映射为较短的固定长度的二进制值，这个小的二进制值称为哈希值。\n",
    "#在查找输入key时，python dict 内置函数 将key hash得到哈希值，然后只要在bucket_list 中查找有没有这个数值，若有就提出对应的value，\n",
    "#因此可以做到常数级别的查找效率"
   ]
  }
 ],
 "metadata": {
  "kernelspec": {
   "display_name": "Python 3",
   "language": "python",
   "name": "python3"
  },
  "language_info": {
   "codemirror_mode": {
    "name": "ipython",
    "version": 3
   },
   "file_extension": ".py",
   "mimetype": "text/x-python",
   "name": "python",
   "nbconvert_exporter": "python",
   "pygments_lexer": "ipython3",
   "version": "3.7.0"
  }
 },
 "nbformat": 4,
 "nbformat_minor": 4
}